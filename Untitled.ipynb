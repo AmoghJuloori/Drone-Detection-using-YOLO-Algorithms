{
 "cells": [
  {
   "cell_type": "code",
   "execution_count": 1,
   "id": "75010716",
   "metadata": {},
   "outputs": [
    {
     "data": {
      "text/plain": [
       "'C:\\\\Users\\\\amogh\\\\Desktop\\\\DL Project'"
      ]
     },
     "execution_count": 1,
     "metadata": {},
     "output_type": "execute_result"
    }
   ],
   "source": [
    "pwd"
   ]
  },
  {
   "cell_type": "code",
   "execution_count": 21,
   "id": "640c235c",
   "metadata": {},
   "outputs": [
    {
     "name": "stdout",
     "output_type": "stream",
     "text": [
      "Requirement already satisfied: torch in c:\\users\\amogh\\anaconda3\\lib\\site-packages (1.13.0)\n",
      "Requirement already satisfied: typing-extensions in c:\\users\\amogh\\anaconda3\\lib\\site-packages (from torch) (4.1.1)\n"
     ]
    }
   ],
   "source": [
    "!pip install torch "
   ]
  },
  {
   "cell_type": "code",
   "execution_count": 24,
   "id": "e03d720d",
   "metadata": {},
   "outputs": [
    {
     "name": "stderr",
     "output_type": "stream",
     "text": [
      "Cloning into 'yolov3'...\n"
     ]
    }
   ],
   "source": [
    "!git clone https://github.com/ultralytics/yolov3\n",
    "\n"
   ]
  },
  {
   "cell_type": "code",
   "execution_count": 22,
   "id": "d0cc34f5",
   "metadata": {},
   "outputs": [],
   "source": [
    "import torch"
   ]
  },
  {
   "cell_type": "code",
   "execution_count": 23,
   "id": "41bbbfef",
   "metadata": {},
   "outputs": [],
   "source": [
    "from IPython.display import Image"
   ]
  },
  {
   "cell_type": "code",
   "execution_count": 10,
   "id": "c598aa05",
   "metadata": {},
   "outputs": [
    {
     "name": "stdout",
     "output_type": "stream",
     "text": [
      "C:\\Users\\amogh\\Desktop\\DL Project\\yolov3\n"
     ]
    }
   ],
   "source": [
    "cd yolov3"
   ]
  },
  {
   "cell_type": "code",
   "execution_count": 11,
   "id": "aaaa2402",
   "metadata": {},
   "outputs": [
    {
     "name": "stdout",
     "output_type": "stream",
     "text": [
      "Requirement already satisfied: matplotlib>=3.2.2 in c:\\users\\amogh\\anaconda3\\lib\\site-packages (from -r requirements.txt (line 5)) (3.5.1)\n",
      "Requirement already satisfied: numpy>=1.18.5 in c:\\users\\amogh\\anaconda3\\lib\\site-packages (from -r requirements.txt (line 6)) (1.21.5)\n",
      "Collecting opencv-python>=4.1.1\n",
      "  Using cached opencv_python-4.6.0.66-cp36-abi3-win_amd64.whl (35.6 MB)\n",
      "Requirement already satisfied: Pillow>=7.1.2 in c:\\users\\amogh\\anaconda3\\lib\\site-packages (from -r requirements.txt (line 8)) (9.0.1)\n",
      "Requirement already satisfied: PyYAML>=5.3.1 in c:\\users\\amogh\\anaconda3\\lib\\site-packages (from -r requirements.txt (line 9)) (6.0)\n",
      "Requirement already satisfied: requests>=2.23.0 in c:\\users\\amogh\\anaconda3\\lib\\site-packages (from -r requirements.txt (line 10)) (2.27.1)\n",
      "Requirement already satisfied: scipy>=1.4.1 in c:\\users\\amogh\\anaconda3\\lib\\site-packages (from -r requirements.txt (line 11)) (1.7.3)\n",
      "Collecting torch>=1.7.0\n",
      "  Downloading torch-1.13.0-cp39-cp39-win_amd64.whl (167.2 MB)\n",
      "Collecting torchvision>=0.8.1\n",
      "  Downloading torchvision-0.14.0-cp39-cp39-win_amd64.whl (1.1 MB)\n",
      "Requirement already satisfied: tqdm>=4.64.0 in c:\\users\\amogh\\anaconda3\\lib\\site-packages (from -r requirements.txt (line 14)) (4.64.0)\n",
      "Collecting tensorboard>=2.4.1\n",
      "  Downloading tensorboard-2.11.0-py3-none-any.whl (6.0 MB)\n",
      "Requirement already satisfied: pandas>=1.1.4 in c:\\users\\amogh\\anaconda3\\lib\\site-packages (from -r requirements.txt (line 23)) (1.4.2)\n",
      "Requirement already satisfied: seaborn>=0.11.0 in c:\\users\\amogh\\anaconda3\\lib\\site-packages (from -r requirements.txt (line 24)) (0.11.2)\n",
      "Requirement already satisfied: ipython in c:\\users\\amogh\\anaconda3\\lib\\site-packages (from -r requirements.txt (line 41)) (8.2.0)\n",
      "Requirement already satisfied: psutil in c:\\users\\amogh\\anaconda3\\lib\\site-packages (from -r requirements.txt (line 42)) (5.8.0)\n",
      "Collecting thop>=0.1.1\n",
      "  Downloading thop-0.1.1.post2209072238-py3-none-any.whl (15 kB)\n",
      "Requirement already satisfied: kiwisolver>=1.0.1 in c:\\users\\amogh\\anaconda3\\lib\\site-packages (from matplotlib>=3.2.2->-r requirements.txt (line 5)) (1.3.2)\n",
      "Requirement already satisfied: python-dateutil>=2.7 in c:\\users\\amogh\\anaconda3\\lib\\site-packages (from matplotlib>=3.2.2->-r requirements.txt (line 5)) (2.8.2)\n",
      "Requirement already satisfied: cycler>=0.10 in c:\\users\\amogh\\anaconda3\\lib\\site-packages (from matplotlib>=3.2.2->-r requirements.txt (line 5)) (0.11.0)\n",
      "Requirement already satisfied: fonttools>=4.22.0 in c:\\users\\amogh\\anaconda3\\lib\\site-packages (from matplotlib>=3.2.2->-r requirements.txt (line 5)) (4.25.0)\n",
      "Requirement already satisfied: pyparsing>=2.2.1 in c:\\users\\amogh\\anaconda3\\lib\\site-packages (from matplotlib>=3.2.2->-r requirements.txt (line 5)) (3.0.4)\n",
      "Requirement already satisfied: packaging>=20.0 in c:\\users\\amogh\\anaconda3\\lib\\site-packages (from matplotlib>=3.2.2->-r requirements.txt (line 5)) (21.3)\n",
      "Requirement already satisfied: certifi>=2017.4.17 in c:\\users\\amogh\\anaconda3\\lib\\site-packages (from requests>=2.23.0->-r requirements.txt (line 10)) (2021.10.8)\n",
      "Requirement already satisfied: charset-normalizer~=2.0.0 in c:\\users\\amogh\\anaconda3\\lib\\site-packages (from requests>=2.23.0->-r requirements.txt (line 10)) (2.0.4)\n",
      "Requirement already satisfied: urllib3<1.27,>=1.21.1 in c:\\users\\amogh\\anaconda3\\lib\\site-packages (from requests>=2.23.0->-r requirements.txt (line 10)) (1.26.9)\n",
      "Requirement already satisfied: idna<4,>=2.5 in c:\\users\\amogh\\anaconda3\\lib\\site-packages (from requests>=2.23.0->-r requirements.txt (line 10)) (3.3)\n",
      "Requirement already satisfied: typing-extensions in c:\\users\\amogh\\anaconda3\\lib\\site-packages (from torch>=1.7.0->-r requirements.txt (line 12)) (4.1.1)\n",
      "Requirement already satisfied: colorama in c:\\users\\amogh\\anaconda3\\lib\\site-packages (from tqdm>=4.64.0->-r requirements.txt (line 14)) (0.4.4)\n",
      "Requirement already satisfied: protobuf<4,>=3.9.2 in c:\\users\\amogh\\anaconda3\\lib\\site-packages (from tensorboard>=2.4.1->-r requirements.txt (line 18)) (3.19.1)\n",
      "Requirement already satisfied: wheel>=0.26 in c:\\users\\amogh\\anaconda3\\lib\\site-packages (from tensorboard>=2.4.1->-r requirements.txt (line 18)) (0.37.1)\n",
      "Collecting tensorboard-plugin-wit>=1.6.0\n",
      "  Downloading tensorboard_plugin_wit-1.8.1-py3-none-any.whl (781 kB)\n",
      "Requirement already satisfied: google-auth<3,>=1.6.3 in c:\\users\\amogh\\anaconda3\\lib\\site-packages (from tensorboard>=2.4.1->-r requirements.txt (line 18)) (1.33.0)\n",
      "Collecting absl-py>=0.4\n",
      "  Downloading absl_py-1.3.0-py3-none-any.whl (124 kB)\n",
      "Requirement already satisfied: setuptools>=41.0.0 in c:\\users\\amogh\\anaconda3\\lib\\site-packages (from tensorboard>=2.4.1->-r requirements.txt (line 18)) (61.2.0)\n",
      "Requirement already satisfied: markdown>=2.6.8 in c:\\users\\amogh\\anaconda3\\lib\\site-packages (from tensorboard>=2.4.1->-r requirements.txt (line 18)) (3.3.4)\n",
      "Requirement already satisfied: werkzeug>=1.0.1 in c:\\users\\amogh\\anaconda3\\lib\\site-packages (from tensorboard>=2.4.1->-r requirements.txt (line 18)) (2.0.3)\n",
      "Collecting google-auth-oauthlib<0.5,>=0.4.1\n",
      "  Downloading google_auth_oauthlib-0.4.6-py2.py3-none-any.whl (18 kB)\n",
      "Requirement already satisfied: grpcio>=1.24.3 in c:\\users\\amogh\\anaconda3\\lib\\site-packages (from tensorboard>=2.4.1->-r requirements.txt (line 18)) (1.42.0)\n",
      "Collecting tensorboard-data-server<0.7.0,>=0.6.0\n",
      "  Downloading tensorboard_data_server-0.6.1-py3-none-any.whl (2.4 kB)\n",
      "Requirement already satisfied: pytz>=2020.1 in c:\\users\\amogh\\anaconda3\\lib\\site-packages (from pandas>=1.1.4->-r requirements.txt (line 23)) (2021.3)\n",
      "Requirement already satisfied: pickleshare in c:\\users\\amogh\\anaconda3\\lib\\site-packages (from ipython->-r requirements.txt (line 41)) (0.7.5)\n",
      "Requirement already satisfied: traitlets>=5 in c:\\users\\amogh\\anaconda3\\lib\\site-packages (from ipython->-r requirements.txt (line 41)) (5.1.1)\n",
      "Requirement already satisfied: jedi>=0.16 in c:\\users\\amogh\\anaconda3\\lib\\site-packages (from ipython->-r requirements.txt (line 41)) (0.18.1)\n",
      "Requirement already satisfied: matplotlib-inline in c:\\users\\amogh\\anaconda3\\lib\\site-packages (from ipython->-r requirements.txt (line 41)) (0.1.2)\n",
      "Requirement already satisfied: decorator in c:\\users\\amogh\\anaconda3\\lib\\site-packages (from ipython->-r requirements.txt (line 41)) (5.1.1)\n",
      "Requirement already satisfied: backcall in c:\\users\\amogh\\anaconda3\\lib\\site-packages (from ipython->-r requirements.txt (line 41)) (0.2.0)\n",
      "Requirement already satisfied: prompt-toolkit!=3.0.0,!=3.0.1,<3.1.0,>=2.0.0 in c:\\users\\amogh\\anaconda3\\lib\\site-packages (from ipython->-r requirements.txt (line 41)) (3.0.20)\n",
      "Requirement already satisfied: pygments>=2.4.0 in c:\\users\\amogh\\anaconda3\\lib\\site-packages (from ipython->-r requirements.txt (line 41)) (2.11.2)\n",
      "Requirement already satisfied: stack-data in c:\\users\\amogh\\anaconda3\\lib\\site-packages (from ipython->-r requirements.txt (line 41)) (0.2.0)\n",
      "Requirement already satisfied: six>=1.9.0 in c:\\users\\amogh\\anaconda3\\lib\\site-packages (from google-auth<3,>=1.6.3->tensorboard>=2.4.1->-r requirements.txt (line 18)) (1.16.0)\n",
      "Requirement already satisfied: cachetools<5.0,>=2.0.0 in c:\\users\\amogh\\anaconda3\\lib\\site-packages (from google-auth<3,>=1.6.3->tensorboard>=2.4.1->-r requirements.txt (line 18)) (4.2.2)\n",
      "Requirement already satisfied: rsa<5,>=3.1.4 in c:\\users\\amogh\\anaconda3\\lib\\site-packages (from google-auth<3,>=1.6.3->tensorboard>=2.4.1->-r requirements.txt (line 18)) (4.7.2)\n",
      "Requirement already satisfied: pyasn1-modules>=0.2.1 in c:\\users\\amogh\\anaconda3\\lib\\site-packages (from google-auth<3,>=1.6.3->tensorboard>=2.4.1->-r requirements.txt (line 18)) (0.2.8)\n",
      "Collecting requests-oauthlib>=0.7.0\n",
      "  Downloading requests_oauthlib-1.3.1-py2.py3-none-any.whl (23 kB)\n",
      "Requirement already satisfied: parso<0.9.0,>=0.8.0 in c:\\users\\amogh\\anaconda3\\lib\\site-packages (from jedi>=0.16->ipython->-r requirements.txt (line 41)) (0.8.3)\n",
      "Requirement already satisfied: wcwidth in c:\\users\\amogh\\anaconda3\\lib\\site-packages (from prompt-toolkit!=3.0.0,!=3.0.1,<3.1.0,>=2.0.0->ipython->-r requirements.txt (line 41)) (0.2.5)\n",
      "Requirement already satisfied: pyasn1<0.5.0,>=0.4.6 in c:\\users\\amogh\\anaconda3\\lib\\site-packages (from pyasn1-modules>=0.2.1->google-auth<3,>=1.6.3->tensorboard>=2.4.1->-r requirements.txt (line 18)) (0.4.8)\n",
      "Collecting oauthlib>=3.0.0\n",
      "  Downloading oauthlib-3.2.2-py3-none-any.whl (151 kB)\n",
      "Requirement already satisfied: executing in c:\\users\\amogh\\anaconda3\\lib\\site-packages (from stack-data->ipython->-r requirements.txt (line 41)) (0.8.3)\n",
      "Requirement already satisfied: asttokens in c:\\users\\amogh\\anaconda3\\lib\\site-packages (from stack-data->ipython->-r requirements.txt (line 41)) (2.0.5)\n",
      "Requirement already satisfied: pure-eval in c:\\users\\amogh\\anaconda3\\lib\\site-packages (from stack-data->ipython->-r requirements.txt (line 41)) (0.2.2)\n",
      "Installing collected packages: oauthlib, requests-oauthlib, torch, tensorboard-plugin-wit, tensorboard-data-server, google-auth-oauthlib, absl-py, torchvision, thop, tensorboard, opencv-python\n",
      "Successfully installed absl-py-1.3.0 google-auth-oauthlib-0.4.6 oauthlib-3.2.2 opencv-python-4.6.0.66 requests-oauthlib-1.3.1 tensorboard-2.11.0 tensorboard-data-server-0.6.1 tensorboard-plugin-wit-1.8.1 thop-0.1.1.post2209072238 torch-1.13.0 torchvision-0.14.0\n",
      "Note: you may need to restart the kernel to use updated packages.\n"
     ]
    }
   ],
   "source": [
    "pip install -r requirements.txt "
   ]
  },
  {
   "cell_type": "code",
   "execution_count": 33,
   "id": "62a528dd",
   "metadata": {},
   "outputs": [
    {
     "name": "stdout",
     "output_type": "stream",
     "text": [
      "training images are :  1087\n",
      "Validation images are :  271\n"
     ]
    }
   ],
   "source": [
    "import os\n",
    "from random import choice\n",
    "import shutil\n",
    "\n",
    "#arrays to store file names\n",
    "imgs =[]\n",
    "xmls =[]\n",
    "\n",
    "#setup dir names\n",
    "trainPath = 'C:/Users/amogh/Desktop/DL Project/dataset/images/train'\n",
    "valPath = 'C:/Users/amogh/Desktop/DL Project/dataset/images/val'\n",
    "crsPath = 'C:/Users/amogh/Desktop/DL Project/data/ts/' #dir where images and annotations stored\n",
    "\n",
    "#setup ratio (val ratio = rest of the files in origin dir after splitting into train and test)\n",
    "train_ratio = 0.8\n",
    "val_ratio = 0.2\n",
    "\n",
    "\n",
    "#total count of imgs\n",
    "totalImgCount = len(os.listdir(crsPath))/2\n",
    "\n",
    "#soring files to corresponding arrays\n",
    "for (dirname, dirs, files) in os.walk(crsPath):\n",
    "    for filename in files:\n",
    "        if filename.endswith('.txt'):\n",
    "            xmls.append(filename)\n",
    "        else:\n",
    "            imgs.append(filename)\n",
    "\n",
    "\n",
    "#counting range for cycles\n",
    "countForTrain = int(len(imgs)*train_ratio)\n",
    "countForVal = int(len(imgs)*val_ratio)\n",
    "print(\"training images are : \",countForTrain)\n",
    "print(\"Validation images are : \",countForVal)\n"
   ]
  },
  {
   "cell_type": "code",
   "execution_count": 34,
   "id": "55bbb38d",
   "metadata": {},
   "outputs": [
    {
     "data": {
      "text/plain": [
       "'C:/Users/amogh/Desktop/DL Project/dataset/images/val\\\\ts'"
      ]
     },
     "execution_count": 34,
     "metadata": {},
     "output_type": "execute_result"
    }
   ],
   "source": [
    "trainimagePath = 'C:/Users/amogh/Desktop/DL Project/dataset/images/train'\n",
    "trainlabelPath = 'C:/Users/amogh/Desktop/DL Project/dataset/labels/train'\n",
    "valimagePath = 'C:/Users/amogh/Desktop/DL Project/dataset/images/val'\n",
    "vallabelPath = 'C:/Users/amogh/Desktop/DL Project/dataset/labels/val'\n",
    "#cycle for train dir\n",
    "for x in range(countForTrain):\n",
    "\n",
    "    fileJpg = choice(imgs) # get name of random image from origin dir\n",
    "    fileXml = fileJpg[:-4] +'.txt' # get name of corresponding annotation file\n",
    "\n",
    "    #move both files into train dir\n",
    "    #shutil.move(os.path.join(crsPath, fileJpg), os.path.join(trainimagePath, fileJpg))\n",
    "    #shutil.move(os.path.join(crsPath, fileXml), os.path.join(trainlabelPath, fileXml))\n",
    "    shutil.copy(os.path.join(crsPath, fileJpg), os.path.join(trainimagePath, fileJpg))\n",
    "    shutil.copy(os.path.join(crsPath, fileXml), os.path.join(trainlabelPath, fileXml))\n",
    "\n",
    "\n",
    "    #remove files from arrays\n",
    "    imgs.remove(fileJpg)\n",
    "    xmls.remove(fileXml)\n",
    "\n",
    "\n",
    "\n",
    "#cycle for test dir   \n",
    "for x in range(countForVal):\n",
    "\n",
    "    fileJpg = choice(imgs) # get name of random image from origin dir\n",
    "    fileXml = fileJpg[:-4] +'.txt' # get name of corresponding annotation file\n",
    "\n",
    "    #move both files into train dir\n",
    "    #shutil.move(os.path.join(crsPath, fileJpg), os.path.join(valimagePath, fileJpg))\n",
    "    #shutil.move(os.path.join(crsPath, fileXml), os.path.join(vallabelPath, fileXml))\n",
    "    shutil.copy(os.path.join(crsPath, fileJpg), os.path.join(valimagePath, fileJpg))\n",
    "    shutil.copy(os.path.join(crsPath, fileXml), os.path.join(vallabelPath, fileXml))\n",
    "    \n",
    "    #remove files from arrays\n",
    "    imgs.remove(fileJpg)\n",
    "    xmls.remove(fileXml)\n",
    "\n",
    "#rest of files will be validation files, so rename origin dir to val dir\n",
    "#os.rename(crsPath, valPath)\n",
    "shutil.move(crsPath, valPath) "
   ]
  },
  {
   "cell_type": "code",
   "execution_count": 35,
   "id": "c2d64416",
   "metadata": {},
   "outputs": [
    {
     "name": "stdout",
     "output_type": "stream",
     "text": [
      "C:\\Users\\amogh\\Desktop\\DL Project\\yolov3\\yolov3\n"
     ]
    }
   ],
   "source": [
    "cd yolov3"
   ]
  },
  {
   "cell_type": "code",
   "execution_count": 42,
   "id": "08b63dd1",
   "metadata": {},
   "outputs": [
    {
     "name": "stdout",
     "output_type": "stream",
     "text": [
      "C:\\Users\\amogh\\Desktop\\DL Project\\yolov3\n"
     ]
    }
   ],
   "source": [
    "cd C:\\Users\\amogh\\Desktop\\DL Project\\yolov3"
   ]
  },
  {
   "cell_type": "code",
   "execution_count": 47,
   "id": "570949d1",
   "metadata": {},
   "outputs": [
    {
     "name": "stdout",
     "output_type": "stream",
     "text": [
      "\u001b[34m\u001b[1mgithub: \u001b[0mup to date with https://github.com/ultralytics/yolov3 \n",
      "\u001b[34m\u001b[1mWeights & Biases: \u001b[0mrun 'pip install wandb' to automatically track and visualize YOLOv3  runs (RECOMMENDED)\n",
      "WARNING: --img-size 415 must be multiple of max stride 32, updating to 416\n",
      "module 'signal' has no attribute 'SIGALRM'\n"
     ]
    },
    {
     "name": "stderr",
     "output_type": "stream",
     "text": [
      "\u001b[34m\u001b[1mtrain: \u001b[0mweights=yolov3.pt, cfg=, data=dataset.yaml, hyp=data\\hyps\\hyp.scratch.yaml, epochs=5, batch_size=5, imgsz=415, rect=False, resume=False, nosave=False, noval=False, noautoanchor=False, evolve=None, bucket=, cache=None, image_weights=False, device=, multi_scale=False, single_cls=False, adam=False, sync_bn=False, workers=8, project=runs\\train, name=exp, exist_ok=False, quad=False, linear_lr=False, label_smoothing=0.0, patience=100, freeze=0, save_period=-1, local_rank=-1, entity=None, upload_dataset=False, bbox_interval=-1, artifact_alias=latest\n",
      "YOLOv3  2022-12-1 torch 1.13.0+cpu CPU\n",
      "\n",
      "\u001b[34m\u001b[1mhyperparameters: \u001b[0mlr0=0.01, lrf=0.1, momentum=0.937, weight_decay=0.0005, warmup_epochs=3.0, warmup_momentum=0.8, warmup_bias_lr=0.1, box=0.05, cls=0.5, cls_pw=1.0, obj=1.0, obj_pw=1.0, iou_t=0.2, anchor_t=4.0, fl_gamma=0.0, hsv_h=0.015, hsv_s=0.7, hsv_v=0.4, degrees=0.0, translate=0.1, scale=0.5, shear=0.0, perspective=0.0, flipud=0.0, fliplr=0.5, mosaic=1.0, mixup=0.0, copy_paste=0.0\n",
      "\u001b[34m\u001b[1mTensorBoard: \u001b[0mStart with 'tensorboard --logdir runs\\train', view at http://localhost:6006/\n",
      "Overriding model.yaml nc=80 with nc=2\n",
      "\n",
      "                 from  n    params  module                                  arguments                     \n",
      "  0                -1  1       928  models.common.Conv                      [3, 32, 3, 1]                 \n",
      "  1                -1  1     18560  models.common.Conv                      [32, 64, 3, 2]                \n",
      "  2                -1  1     20672  models.common.Bottleneck                [64, 64]                      \n",
      "  3                -1  1     73984  models.common.Conv                      [64, 128, 3, 2]               \n",
      "  4                -1  2    164608  models.common.Bottleneck                [128, 128]                    \n",
      "  5                -1  1    295424  models.common.Conv                      [128, 256, 3, 2]              \n",
      "  6                -1  8   2627584  models.common.Bottleneck                [256, 256]                    \n",
      "  7                -1  1   1180672  models.common.Conv                      [256, 512, 3, 2]              \n",
      "  8                -1  8  10498048  models.common.Bottleneck                [512, 512]                    \n",
      "  9                -1  1   4720640  models.common.Conv                      [512, 1024, 3, 2]             \n",
      " 10                -1  4  20983808  models.common.Bottleneck                [1024, 1024]                  \n",
      " 11                -1  1   5245952  models.common.Bottleneck                [1024, 1024, False]           \n",
      " 12                -1  1    525312  models.common.Conv                      [1024, 512, 1, 1]             \n",
      " 13                -1  1   4720640  models.common.Conv                      [512, 1024, 3, 1]             \n",
      " 14                -1  1    525312  models.common.Conv                      [1024, 512, 1, 1]             \n",
      " 15                -1  1   4720640  models.common.Conv                      [512, 1024, 3, 1]             \n",
      " 16                -2  1    131584  models.common.Conv                      [512, 256, 1, 1]              \n",
      " 17                -1  1         0  torch.nn.modules.upsampling.Upsample    [None, 2, 'nearest']          \n",
      " 18           [-1, 8]  1         0  models.common.Concat                    [1]                           \n",
      " 19                -1  1   1377792  models.common.Bottleneck                [768, 512, False]             \n",
      " 20                -1  1   1312256  models.common.Bottleneck                [512, 512, False]             \n",
      " 21                -1  1    131584  models.common.Conv                      [512, 256, 1, 1]              \n",
      " 22                -1  1   1180672  models.common.Conv                      [256, 512, 3, 1]              \n",
      " 23                -2  1     33024  models.common.Conv                      [256, 128, 1, 1]              \n",
      " 24                -1  1         0  torch.nn.modules.upsampling.Upsample    [None, 2, 'nearest']          \n",
      " 25           [-1, 6]  1         0  models.common.Concat                    [1]                           \n",
      " 26                -1  1    344832  models.common.Bottleneck                [384, 256, False]             \n",
      " 27                -1  2    656896  models.common.Bottleneck                [256, 256, False]             \n",
      " 28      [27, 22, 15]  1     37695  models.yolo.Detect                      [2, [[10, 13, 16, 30, 33, 23], [30, 61, 62, 45, 59, 119], [116, 90, 156, 198, 373, 326]], [256, 512, 1024]]\n",
      "Model Summary: 333 layers, 61529119 parameters, 61529119 gradients, 155.3 GFLOPs\n",
      "\n",
      "Transferred 433/439 items from yolov3.pt\n",
      "Scaled weight_decay = 0.0005078125\n",
      "\u001b[34m\u001b[1moptimizer:\u001b[0m SGD with parameter groups 72 weight, 75 weight (no decay), 75 bias\n",
      "\n",
      "\u001b[34m\u001b[1mtrain: \u001b[0mScanning '..\\dataset\\labels\\train.cache' images and labels... 1087 found, 0 missing, 0 empty, 0 corrupted: 100%|##########| 1087/1087 [00:00<?, ?it/s]\n",
      "\u001b[34m\u001b[1mtrain: \u001b[0mScanning '..\\dataset\\labels\\train.cache' images and labels... 1087 found, 0 missing, 0 empty, 0 corrupted: 100%|##########| 1087/1087 [00:00<?, ?it/s]\n",
      "\u001b[34m\u001b[1mtrain: \u001b[0mWARNING: ..\\dataset\\images\\train\\pic_722.jpg: corrupt JPEG restored and saved\n",
      "OMP: Error #15: Initializing libiomp5md.dll, but found libiomp5md.dll already initialized.\n",
      "OMP: Hint This means that multiple copies of the OpenMP runtime have been linked into the program. That is dangerous, since it can degrade performance or cause incorrect results. The best thing to do is to ensure that only a single OpenMP runtime is linked into the process, e.g. by avoiding static linking of the OpenMP runtime in any library. As an unsafe, unsupported, undocumented workaround you can set the environment variable KMP_DUPLICATE_LIB_OK=TRUE to allow the program to continue to execute, but that may cause crashes or silently produce incorrect results. For more information, please see http://www.intel.com/software/products/support/.\n",
      "OMP: Error #15: Initializing libiomp5md.dll, but found libiomp5md.dll already initialized.\n",
      "OMP: Hint This means that multiple copies of the OpenMP runtime have been linked into the program. That is dangerous, since it can degrade performance or cause incorrect results. The best thing to do is to ensure that only a single OpenMP runtime is linked into the process, e.g. by avoiding static linking of the OpenMP runtime in any library. As an unsafe, unsupported, undocumented workaround you can set the environment variable KMP_DUPLICATE_LIB_OK=TRUE to allow the program to continue to execute, but that may cause crashes or silently produce incorrect results. For more information, please see http://www.intel.com/software/products/support/.\n",
      "OMP: Error #15: Initializing libiomp5md.dll, but found libiomp5md.dll already initialized.\n",
      "OMP: Hint This means that multiple copies of the OpenMP runtime have been linked into the program. That is dangerous, since it can degrade performance or cause incorrect results. The best thing to do is to ensure that only a single OpenMP runtime is linked into the process, e.g. by avoiding static linking of the OpenMP runtime in any library. As an unsafe, unsupported, undocumented workaround you can set the environment variable KMP_DUPLICATE_LIB_OK=TRUE to allow the program to continue to execute, but that may cause crashes or silently produce incorrect results. For more information, please see http://www.intel.com/software/products/support/.\n",
      "OMP: Error #15: Initializing libiomp5md.dll, but found libiomp5md.dll already initialized.\n",
      "OMP: Hint This means that multiple copies of the OpenMP runtime have been linked into the program. That is dangerous, since it can degrade performance or cause incorrect results. The best thing to do is to ensure that only a single OpenMP runtime is linked into the process, e.g. by avoiding static linking of the OpenMP runtime in any library. As an unsafe, unsupported, undocumented workaround you can set the environment variable KMP_DUPLICATE_LIB_OK=TRUE to allow the program to continue to execute, but that may cause crashes or silently produce incorrect results. For more information, please see http://www.intel.com/software/products/support/.\n",
      "OMP: Error #15: Initializing libiomp5md.dll, but found libiomp5md.dll already initialized.\n",
      "OMP: Hint This means that multiple copies of the OpenMP runtime have been linked into the program. That is dangerous, since it can degrade performance or cause incorrect results. The best thing to do is to ensure that only a single OpenMP runtime is linked into the process, e.g. by avoiding static linking of the OpenMP runtime in any library. As an unsafe, unsupported, undocumented workaround you can set the environment variable KMP_DUPLICATE_LIB_OK=TRUE to allow the program to continue to execute, but that may cause crashes or silently produce incorrect results. For more information, please see http://www.intel.com/software/products/support/.\n",
      "\n",
      "\u001b[34m\u001b[1mval: \u001b[0mScanning '..\\dataset\\labels\\val.cache' images and labels... 271 found, 1359 missing, 0 empty, 0 corrupted: 100%|##########| 1630/1630 [00:00<?, ?it/s]\n",
      "\u001b[34m\u001b[1mval: \u001b[0mScanning '..\\dataset\\labels\\val.cache' images and labels... 271 found, 1359 missing, 0 empty, 0 corrupted: 100%|##########| 1630/1630 [00:00<?, ?it/s]\n",
      "\u001b[34m\u001b[1mval: \u001b[0mWARNING: ..\\dataset\\images\\val\\ts\\pic_722.jpg: corrupt JPEG restored and saved\n",
      "\n",
      "\u001b[34m\u001b[1mAutoAnchor: \u001b[0m3.59 anchors/target, 1.000 Best Possible Recall (BPR). Current anchors are a good fit to dataset \n",
      "Image sizes 416 train, 416 val\n",
      "Using 5 dataloader workers\n",
      "Logging results to \u001b[1mruns\\train\\exp5\u001b[0m\n",
      "Starting training for 5 epochs...\n",
      "\n",
      "     Epoch   gpu_mem       box       obj       cls    labels  img_size\n",
      "\n",
      "  0%|          | 0/218 [00:00<?, ?it/s]                                         \n",
      "  0%|          | 0/218 [00:05<?, ?it/s]                                         \n",
      "Traceback (most recent call last):\n",
      "  File \"C:\\Users\\amogh\\anaconda3\\lib\\site-packages\\torch\\utils\\data\\dataloader.py\", line 1120, in _try_get_data\n",
      "    data = self._data_queue.get(timeout=timeout)\n",
      "  File \"C:\\Users\\amogh\\anaconda3\\lib\\multiprocessing\\queues.py\", line 114, in get\n",
      "    raise Empty\n",
      "_queue.Empty\n",
      "\n",
      "The above exception was the direct cause of the following exception:\n",
      "\n",
      "Traceback (most recent call last):\n",
      "  File \"C:\\Users\\amogh\\Desktop\\DL Project\\yolov3\\train.py\", line 625, in <module>\n",
      "    main(opt)\n",
      "  File \"C:\\Users\\amogh\\Desktop\\DL Project\\yolov3\\train.py\", line 522, in main\n",
      "    train(opt.hyp, opt, device, callbacks)\n",
      "  File \"C:\\Users\\amogh\\Desktop\\DL Project\\yolov3\\train.py\", line 293, in train\n",
      "    for i, (imgs, targets, paths, _) in pbar:  # batch -------------------------------------------------------------\n",
      "  File \"C:\\Users\\amogh\\anaconda3\\lib\\site-packages\\tqdm\\std.py\", line 1195, in __iter__\n",
      "    for obj in iterable:\n",
      "  File \"C:\\Users\\amogh\\Desktop\\DL Project\\yolov3\\utils\\datasets.py\", line 141, in __iter__\n",
      "    yield next(self.iterator)\n",
      "  File \"C:\\Users\\amogh\\anaconda3\\lib\\site-packages\\torch\\utils\\data\\dataloader.py\", line 628, in __next__\n",
      "    data = self._next_data()\n",
      "  File \"C:\\Users\\amogh\\anaconda3\\lib\\site-packages\\torch\\utils\\data\\dataloader.py\", line 1316, in _next_data\n",
      "    idx, data = self._get_data()\n",
      "  File \"C:\\Users\\amogh\\anaconda3\\lib\\site-packages\\torch\\utils\\data\\dataloader.py\", line 1282, in _get_data\n",
      "    success, data = self._try_get_data()\n",
      "  File \"C:\\Users\\amogh\\anaconda3\\lib\\site-packages\\torch\\utils\\data\\dataloader.py\", line 1133, in _try_get_data\n",
      "    raise RuntimeError('DataLoader worker (pid(s) {}) exited unexpectedly'.format(pids_str)) from e\n",
      "RuntimeError: DataLoader worker (pid(s) 23488, 19004, 22116, 23064, 3316) exited unexpectedly\n"
     ]
    }
   ],
   "source": [
    "!python train.py --img 415 --batch 5 --epochs 5 --data dataset.yaml --weights yolov3.pt "
   ]
  },
  {
   "cell_type": "code",
   "execution_count": null,
   "id": "89d48566",
   "metadata": {},
   "outputs": [],
   "source": []
  }
 ],
 "metadata": {
  "kernelspec": {
   "display_name": "Python 3 (ipykernel)",
   "language": "python",
   "name": "python3"
  },
  "language_info": {
   "codemirror_mode": {
    "name": "ipython",
    "version": 3
   },
   "file_extension": ".py",
   "mimetype": "text/x-python",
   "name": "python",
   "nbconvert_exporter": "python",
   "pygments_lexer": "ipython3",
   "version": "3.9.12"
  }
 },
 "nbformat": 4,
 "nbformat_minor": 5
}
